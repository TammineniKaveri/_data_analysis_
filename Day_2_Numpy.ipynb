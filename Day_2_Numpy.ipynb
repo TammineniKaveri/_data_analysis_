{
  "nbformat": 4,
  "nbformat_minor": 0,
  "metadata": {
    "colab": {
      "provenance": []
    },
    "kernelspec": {
      "name": "python3",
      "display_name": "Python 3"
    },
    "language_info": {
      "name": "python"
    }
  },
  "cells": [
    {
      "cell_type": "code",
      "execution_count": null,
      "metadata": {
        "id": "r8WLTwiJq7F-"
      },
      "outputs": [],
      "source": [
        "#importing\n",
        "import numpy as np"
      ]
    },
    {
      "cell_type": "code",
      "source": [
        "#create an array with 4-rows and 8-columns\n",
        "a=np.eye(4,8)\n",
        "print(a)"
      ],
      "metadata": {
        "colab": {
          "base_uri": "https://localhost:8080/"
        },
        "id": "rzcOfQ2orlYO",
        "outputId": "313ca413-ac5b-4a38-f8b4-3f10eedd9732"
      },
      "execution_count": null,
      "outputs": [
        {
          "output_type": "stream",
          "name": "stdout",
          "text": [
            "[[1. 0. 0. 0. 0. 0. 0. 0.]\n",
            " [0. 1. 0. 0. 0. 0. 0. 0.]\n",
            " [0. 0. 1. 0. 0. 0. 0. 0.]\n",
            " [0. 0. 0. 1. 0. 0. 0. 0.]]\n"
          ]
        }
      ]
    },
    {
      "cell_type": "code",
      "source": [
        "c=np.array([[1,2,3,4,5,6,7,8],[5,6,7,8,1,2,3,4],[9,0,1,2,3,4,5,6],[3,4,5,6,9,8,7,1]])\n",
        "print(c)"
      ],
      "metadata": {
        "colab": {
          "base_uri": "https://localhost:8080/"
        },
        "id": "mjTuGAQOt7U4",
        "outputId": "3134bcc4-32be-4936-9c59-ac65f928c250"
      },
      "execution_count": null,
      "outputs": [
        {
          "output_type": "stream",
          "name": "stdout",
          "text": [
            "[[1 2 3 4 5 6 7 8]\n",
            " [5 6 7 8 1 2 3 4]\n",
            " [9 0 1 2 3 4 5 6]\n",
            " [3 4 5 6 9 8 7 1]]\n"
          ]
        }
      ]
    },
    {
      "cell_type": "code",
      "source": [
        "b=np.random.rand(1)\n",
        "print(b)"
      ],
      "metadata": {
        "colab": {
          "base_uri": "https://localhost:8080/"
        },
        "id": "LoxIsUybtdEO",
        "outputId": "771ad78a-364d-4eca-e2cf-6a08f1f67f92"
      },
      "execution_count": null,
      "outputs": [
        {
          "output_type": "stream",
          "name": "stdout",
          "text": [
            "[0.20004465]\n"
          ]
        }
      ]
    },
    {
      "cell_type": "code",
      "source": [
        "d=np.random.rand(8,4) #rand-range is between 0 and 1\n",
        "print(d)"
      ],
      "metadata": {
        "colab": {
          "base_uri": "https://localhost:8080/"
        },
        "id": "WqnLmBxVtk6o",
        "outputId": "27c45627-961e-4ec7-c313-8b8c7c09a665"
      },
      "execution_count": null,
      "outputs": [
        {
          "output_type": "stream",
          "name": "stdout",
          "text": [
            "[[0.78367986 0.23436936 0.57873817 0.19727506]\n",
            " [0.53131151 0.37057921 0.48924644 0.14192444]\n",
            " [0.09493327 0.28722168 0.57983281 0.01071903]\n",
            " [0.75886157 0.91885963 0.15842537 0.13668903]\n",
            " [0.28039169 0.05141379 0.08174929 0.24032043]\n",
            " [0.4370635  0.3780404  0.81720668 0.71584106]\n",
            " [0.55418753 0.95043435 0.74113002 0.82498429]\n",
            " [0.02986814 0.79277473 0.13472115 0.25295412]]\n"
          ]
        }
      ]
    },
    {
      "cell_type": "code",
      "source": [
        "e=np.arange(1,33).reshape(8,4)\n",
        "print(e)"
      ],
      "metadata": {
        "colab": {
          "base_uri": "https://localhost:8080/"
        },
        "id": "PXXgRGiZwJyg",
        "outputId": "f2b8f036-620f-4744-e562-3c32f6359b97"
      },
      "execution_count": null,
      "outputs": [
        {
          "output_type": "stream",
          "name": "stdout",
          "text": [
            "[[ 1  2  3  4]\n",
            " [ 5  6  7  8]\n",
            " [ 9 10 11 12]\n",
            " [13 14 15 16]\n",
            " [17 18 19 20]\n",
            " [21 22 23 24]\n",
            " [25 26 27 28]\n",
            " [29 30 31 32]]\n"
          ]
        }
      ]
    },
    {
      "cell_type": "code",
      "source": [
        "np.vsplit(e,4) #splitting"
      ],
      "metadata": {
        "colab": {
          "base_uri": "https://localhost:8080/"
        },
        "id": "NTs6lAyAw4F5",
        "outputId": "c06bd21f-4c0c-4419-bc98-38ffd9d73af3"
      },
      "execution_count": null,
      "outputs": [
        {
          "output_type": "execute_result",
          "data": {
            "text/plain": [
              "[array([[1, 2, 3, 4],\n",
              "        [5, 6, 7, 8]]),\n",
              " array([[ 9, 10, 11, 12],\n",
              "        [13, 14, 15, 16]]),\n",
              " array([[17, 18, 19, 20],\n",
              "        [21, 22, 23, 24]]),\n",
              " array([[25, 26, 27, 28],\n",
              "        [29, 30, 31, 32]])]"
            ]
          },
          "metadata": {},
          "execution_count": 11
        }
      ]
    },
    {
      "cell_type": "code",
      "source": [
        "np.vsplit(e,2)"
      ],
      "metadata": {
        "colab": {
          "base_uri": "https://localhost:8080/"
        },
        "id": "RHTQXNkqxBek",
        "outputId": "0a93973f-c9eb-46b1-9ddc-5338fa885dd9"
      },
      "execution_count": null,
      "outputs": [
        {
          "output_type": "execute_result",
          "data": {
            "text/plain": [
              "[array([[ 1,  2,  3,  4],\n",
              "        [ 5,  6,  7,  8],\n",
              "        [ 9, 10, 11, 12],\n",
              "        [13, 14, 15, 16]]),\n",
              " array([[17, 18, 19, 20],\n",
              "        [21, 22, 23, 24],\n",
              "        [25, 26, 27, 28],\n",
              "        [29, 30, 31, 32]])]"
            ]
          },
          "metadata": {},
          "execution_count": 13
        }
      ]
    },
    {
      "cell_type": "code",
      "source": [
        "np.vsplit(e,(2,7)) #split 2nd row after 7th row"
      ],
      "metadata": {
        "colab": {
          "base_uri": "https://localhost:8080/"
        },
        "id": "u4lgtZ_eyNNS",
        "outputId": "32d2b0b4-a6e8-4462-f477-8a1cc5ae4e0f"
      },
      "execution_count": null,
      "outputs": [
        {
          "output_type": "execute_result",
          "data": {
            "text/plain": [
              "[array([[1, 2, 3, 4],\n",
              "        [5, 6, 7, 8]]),\n",
              " array([[ 9, 10, 11, 12],\n",
              "        [13, 14, 15, 16],\n",
              "        [17, 18, 19, 20],\n",
              "        [21, 22, 23, 24],\n",
              "        [25, 26, 27, 28]]),\n",
              " array([[29, 30, 31, 32]])]"
            ]
          },
          "metadata": {},
          "execution_count": 14
        }
      ]
    },
    {
      "cell_type": "code",
      "source": [
        "#create an array with 4-rows and 8-columns\n",
        "e=np.arange(1,33).reshape(4,8)\n",
        "print(e)"
      ],
      "metadata": {
        "colab": {
          "base_uri": "https://localhost:8080/"
        },
        "id": "SgC10iGxzksk",
        "outputId": "993da34f-6a18-4fc3-d89d-c8404d89b2ce"
      },
      "execution_count": null,
      "outputs": [
        {
          "output_type": "stream",
          "name": "stdout",
          "text": [
            "[[ 1  2  3  4  5  6  7  8]\n",
            " [ 9 10 11 12 13 14 15 16]\n",
            " [17 18 19 20 21 22 23 24]\n",
            " [25 26 27 28 29 30 31 32]]\n"
          ]
        }
      ]
    },
    {
      "cell_type": "code",
      "source": [
        "np.hsplit(e,4) #using hsplit"
      ],
      "metadata": {
        "colab": {
          "base_uri": "https://localhost:8080/"
        },
        "id": "2YK1ZIPyz9zz",
        "outputId": "331bed35-f9b2-4960-b408-91f9d2f29eef"
      },
      "execution_count": null,
      "outputs": [
        {
          "output_type": "execute_result",
          "data": {
            "text/plain": [
              "[array([[ 1,  2],\n",
              "        [ 9, 10],\n",
              "        [17, 18],\n",
              "        [25, 26]]),\n",
              " array([[ 3,  4],\n",
              "        [11, 12],\n",
              "        [19, 20],\n",
              "        [27, 28]]),\n",
              " array([[ 5,  6],\n",
              "        [13, 14],\n",
              "        [21, 22],\n",
              "        [29, 30]]),\n",
              " array([[ 7,  8],\n",
              "        [15, 16],\n",
              "        [23, 24],\n",
              "        [31, 32]])]"
            ]
          },
          "metadata": {},
          "execution_count": 16
        }
      ]
    },
    {
      "cell_type": "code",
      "source": [
        "np.hsplit(e,(3,7))"
      ],
      "metadata": {
        "colab": {
          "base_uri": "https://localhost:8080/"
        },
        "id": "H7Atp_ep0mJr",
        "outputId": "ce601d2a-cbb6-4991-ccc2-cd3d12911548"
      },
      "execution_count": null,
      "outputs": [
        {
          "output_type": "execute_result",
          "data": {
            "text/plain": [
              "[array([[ 1,  2,  3],\n",
              "        [ 9, 10, 11],\n",
              "        [17, 18, 19],\n",
              "        [25, 26, 27]]),\n",
              " array([[ 4,  5,  6,  7],\n",
              "        [12, 13, 14, 15],\n",
              "        [20, 21, 22, 23],\n",
              "        [28, 29, 30, 31]]),\n",
              " array([[ 8],\n",
              "        [16],\n",
              "        [24],\n",
              "        [32]])]"
            ]
          },
          "metadata": {},
          "execution_count": 17
        }
      ]
    },
    {
      "cell_type": "markdown",
      "source": [
        "Trignometry\n"
      ],
      "metadata": {
        "id": "L2lFS_6V3khI"
      }
    },
    {
      "cell_type": "code",
      "source": [
        "np.pi\n"
      ],
      "metadata": {
        "colab": {
          "base_uri": "https://localhost:8080/"
        },
        "id": "X4Ihqzgu3b1_",
        "outputId": "59ad7e08-4d47-462b-c217-8c729b99fd50"
      },
      "execution_count": null,
      "outputs": [
        {
          "output_type": "execute_result",
          "data": {
            "text/plain": [
              "3.141592653589793"
            ]
          },
          "metadata": {},
          "execution_count": 18
        }
      ]
    },
    {
      "cell_type": "code",
      "source": [
        "a=[np.pi/4,np.pi/3,np.pi/2,np.pi]\n",
        "print(a)"
      ],
      "metadata": {
        "colab": {
          "base_uri": "https://localhost:8080/"
        },
        "id": "H50LpEPV3rnF",
        "outputId": "e91869e0-8136-4f27-e0ed-d37502be8b94"
      },
      "execution_count": null,
      "outputs": [
        {
          "output_type": "stream",
          "name": "stdout",
          "text": [
            "[0.7853981633974483, 1.0471975511965976, 1.5707963267948966, 3.141592653589793]\n"
          ]
        }
      ]
    },
    {
      "cell_type": "code",
      "source": [
        "np.rad2deg(a)"
      ],
      "metadata": {
        "colab": {
          "base_uri": "https://localhost:8080/"
        },
        "id": "2ZkgF_tx4TKb",
        "outputId": "af21f5ee-e1b4-4a0d-dbd5-c61168bf0910"
      },
      "execution_count": null,
      "outputs": [
        {
          "output_type": "execute_result",
          "data": {
            "text/plain": [
              "array([ 45.,  60.,  90., 180.])"
            ]
          },
          "metadata": {},
          "execution_count": 20
        }
      ]
    },
    {
      "cell_type": "code",
      "source": [
        "b=[45,60,90,180]\n",
        "np.deg2rad(b)\n"
      ],
      "metadata": {
        "colab": {
          "base_uri": "https://localhost:8080/"
        },
        "id": "UM0aufkV4uCM",
        "outputId": "0b2750d2-d7cd-478d-d1c0-9ca2c846ab57"
      },
      "execution_count": null,
      "outputs": [
        {
          "output_type": "execute_result",
          "data": {
            "text/plain": [
              "array([0.78539816, 1.04719755, 1.57079633, 3.14159265])"
            ]
          },
          "metadata": {},
          "execution_count": 25
        }
      ]
    },
    {
      "cell_type": "code",
      "source": [
        "#radians\n",
        "np.sin(1)"
      ],
      "metadata": {
        "colab": {
          "base_uri": "https://localhost:8080/"
        },
        "id": "q21f31UC6BEh",
        "outputId": "0d53e3cf-2df2-47ad-80d1-0350047a0022"
      },
      "execution_count": null,
      "outputs": [
        {
          "output_type": "execute_result",
          "data": {
            "text/plain": [
              "0.8414709848078965"
            ]
          },
          "metadata": {},
          "execution_count": 26
        }
      ]
    },
    {
      "cell_type": "code",
      "source": [
        "np.cos(1)"
      ],
      "metadata": {
        "colab": {
          "base_uri": "https://localhost:8080/"
        },
        "id": "JoUpto7j6Iww",
        "outputId": "816d08a9-b834-400b-a5af-39329d61e201"
      },
      "execution_count": null,
      "outputs": [
        {
          "output_type": "execute_result",
          "data": {
            "text/plain": [
              "0.5403023058681398"
            ]
          },
          "metadata": {},
          "execution_count": 27
        }
      ]
    },
    {
      "cell_type": "code",
      "source": [
        "np.tan(1)"
      ],
      "metadata": {
        "colab": {
          "base_uri": "https://localhost:8080/"
        },
        "id": "FKk6OuCP6Opw",
        "outputId": "63f60d4e-5839-4760-de4f-a1538f14b391"
      },
      "execution_count": null,
      "outputs": [
        {
          "output_type": "execute_result",
          "data": {
            "text/plain": [
              "1.5574077246549023"
            ]
          },
          "metadata": {},
          "execution_count": 28
        }
      ]
    },
    {
      "cell_type": "code",
      "source": [
        "st=np.array([6,5,4,3,2,1])"
      ],
      "metadata": {
        "id": "vr-oTyUQ6rn3"
      },
      "execution_count": null,
      "outputs": []
    },
    {
      "cell_type": "code",
      "source": [
        "np.mean(st)"
      ],
      "metadata": {
        "colab": {
          "base_uri": "https://localhost:8080/"
        },
        "id": "M19arVS97Qjd",
        "outputId": "5f5cf6de-4578-4f42-fafb-d55b86c8947a"
      },
      "execution_count": null,
      "outputs": [
        {
          "output_type": "execute_result",
          "data": {
            "text/plain": [
              "3.5"
            ]
          },
          "metadata": {},
          "execution_count": 30
        }
      ]
    },
    {
      "cell_type": "code",
      "source": [
        "np.median(st)"
      ],
      "metadata": {
        "colab": {
          "base_uri": "https://localhost:8080/"
        },
        "id": "FUw9a_kn7k-j",
        "outputId": "1a7d98c8-9dac-4754-e67c-e4e7b99667bf"
      },
      "execution_count": null,
      "outputs": [
        {
          "output_type": "execute_result",
          "data": {
            "text/plain": [
              "3.5"
            ]
          },
          "metadata": {},
          "execution_count": 32
        }
      ]
    },
    {
      "cell_type": "code",
      "source": [
        "np.var(st)"
      ],
      "metadata": {
        "colab": {
          "base_uri": "https://localhost:8080/"
        },
        "id": "oLe2pQYL8wWY",
        "outputId": "7a233f20-c550-4bcf-e6df-76127f660551"
      },
      "execution_count": null,
      "outputs": [
        {
          "output_type": "execute_result",
          "data": {
            "text/plain": [
              "2.9166666666666665"
            ]
          },
          "metadata": {},
          "execution_count": 34
        }
      ]
    },
    {
      "cell_type": "code",
      "source": [
        "c=np.arange(1,5).reshape(2,2)\n",
        "print(c)"
      ],
      "metadata": {
        "colab": {
          "base_uri": "https://localhost:8080/"
        },
        "id": "bjNCCe3S-8Xc",
        "outputId": "ca2a10f6-4a85-4efb-fa67-291cfc63c78a"
      },
      "execution_count": null,
      "outputs": [
        {
          "output_type": "stream",
          "name": "stdout",
          "text": [
            "[[1 2]\n",
            " [3 4]]\n"
          ]
        }
      ]
    },
    {
      "cell_type": "code",
      "source": [
        "np.linalg.inv(c)"
      ],
      "metadata": {
        "colab": {
          "base_uri": "https://localhost:8080/"
        },
        "id": "rOAASGhl_R1d",
        "outputId": "1e03a978-9fc0-4872-9769-d98d9145537f"
      },
      "execution_count": null,
      "outputs": [
        {
          "output_type": "execute_result",
          "data": {
            "text/plain": [
              "array([[-2. ,  1. ],\n",
              "       [ 1.5, -0.5]])"
            ]
          },
          "metadata": {},
          "execution_count": 36
        }
      ]
    },
    {
      "cell_type": "code",
      "source": [
        "c=np.arange(1,25).reshape(6,4)\n",
        "print(c)"
      ],
      "metadata": {
        "colab": {
          "base_uri": "https://localhost:8080/"
        },
        "id": "fl-TsvqI_XpG",
        "outputId": "6214b33a-fc25-4374-b995-59e99d958d11"
      },
      "execution_count": null,
      "outputs": [
        {
          "output_type": "stream",
          "name": "stdout",
          "text": [
            "[[ 1  2  3  4]\n",
            " [ 5  6  7  8]\n",
            " [ 9 10 11 12]\n",
            " [13 14 15 16]\n",
            " [17 18 19 20]\n",
            " [21 22 23 24]]\n"
          ]
        }
      ]
    },
    {
      "cell_type": "code",
      "source": [
        "print(np.argmax(c))"
      ],
      "metadata": {
        "colab": {
          "base_uri": "https://localhost:8080/"
        },
        "id": "TT2WIn2WAVFE",
        "outputId": "9db50f73-872f-4211-ef53-02b42f66e1d1"
      },
      "execution_count": null,
      "outputs": [
        {
          "output_type": "stream",
          "name": "stdout",
          "text": [
            "23\n"
          ]
        }
      ]
    },
    {
      "cell_type": "code",
      "source": [
        "c=np.arange(1,25).reshape(6,4)\n",
        "print(np.argmax(c))"
      ],
      "metadata": {
        "colab": {
          "base_uri": "https://localhost:8080/"
        },
        "id": "ae5Yj1QXAc8q",
        "outputId": "7c55b77a-2490-4af4-8b27-9fae62e25ad5"
      },
      "execution_count": null,
      "outputs": [
        {
          "output_type": "stream",
          "name": "stdout",
          "text": [
            "23\n"
          ]
        }
      ]
    },
    {
      "cell_type": "code",
      "source": [
        "d=10*np.random.rand(24).reshape(6,4)\n",
        "print(d)"
      ],
      "metadata": {
        "colab": {
          "base_uri": "https://localhost:8080/"
        },
        "id": "g_rm3ozXA2ON",
        "outputId": "65a41f5a-6a01-488a-ff4d-23f013705879"
      },
      "execution_count": null,
      "outputs": [
        {
          "output_type": "stream",
          "name": "stdout",
          "text": [
            "[[9.25887726 0.35415062 2.19298553 9.14765204]\n",
            " [1.47941281 1.72808555 9.01357148 4.649553  ]\n",
            " [2.46193801 4.80525468 1.47261125 0.91434196]\n",
            " [2.54748219 5.70676932 4.11823174 0.61435942]\n",
            " [4.01068779 7.02276955 5.86749824 5.28702032]\n",
            " [4.61919852 3.23961805 3.87815914 9.26595233]]\n"
          ]
        }
      ]
    },
    {
      "cell_type": "code",
      "source": [
        "print(np.argmax(d))"
      ],
      "metadata": {
        "colab": {
          "base_uri": "https://localhost:8080/"
        },
        "id": "sLX5W_LlBgTb",
        "outputId": "ce16f4e3-332b-4fde-fcad-68f76eeaf030"
      },
      "execution_count": null,
      "outputs": [
        {
          "output_type": "stream",
          "name": "stdout",
          "text": [
            "23\n"
          ]
        }
      ]
    },
    {
      "cell_type": "code",
      "source": [
        "d=12*np.random.rand(25).reshape(5,5)\n",
        "print(d)"
      ],
      "metadata": {
        "colab": {
          "base_uri": "https://localhost:8080/"
        },
        "id": "N4aDfaO9BwHk",
        "outputId": "52931bc3-13e9-447c-e8ba-5102de9013f6"
      },
      "execution_count": null,
      "outputs": [
        {
          "output_type": "stream",
          "name": "stdout",
          "text": [
            "[[ 6.77444234  0.65784338  7.81291698  4.3491296   3.19527744]\n",
            " [ 2.06445704  0.7119661  11.38097255 11.23469618  7.25814891]\n",
            " [11.54043494  7.40163869  0.86358506  2.41696534 11.84651985]\n",
            " [ 9.34711863  4.70637903  9.02641978  0.74889954 10.46457128]\n",
            " [ 8.27235086  1.54389652  0.22846069  5.38326425  5.9404733 ]]\n"
          ]
        }
      ]
    },
    {
      "cell_type": "code",
      "source": [
        "print(np.argmax(d))"
      ],
      "metadata": {
        "colab": {
          "base_uri": "https://localhost:8080/"
        },
        "id": "Y2aOQrCoCaC0",
        "outputId": "6edd61bc-90d6-46d0-8c14-f8881843a524"
      },
      "execution_count": null,
      "outputs": [
        {
          "output_type": "stream",
          "name": "stdout",
          "text": [
            "14\n"
          ]
        }
      ]
    },
    {
      "cell_type": "code",
      "source": [
        "print(np.argmax(d,axis=1))"
      ],
      "metadata": {
        "colab": {
          "base_uri": "https://localhost:8080/"
        },
        "id": "GTP9NCNcCiVq",
        "outputId": "c0564510-6a9a-405c-f5e0-881153a10bcf"
      },
      "execution_count": null,
      "outputs": [
        {
          "output_type": "stream",
          "name": "stdout",
          "text": [
            "[2 2 4 4 0]\n"
          ]
        }
      ]
    },
    {
      "cell_type": "code",
      "source": [
        "print(np.argmax(d,axis=0))"
      ],
      "metadata": {
        "colab": {
          "base_uri": "https://localhost:8080/"
        },
        "id": "j_Sb06OnC0PA",
        "outputId": "3f29f21d-45c4-469c-88c2-4f699d7f7520"
      },
      "execution_count": null,
      "outputs": [
        {
          "output_type": "stream",
          "name": "stdout",
          "text": [
            "[2 2 1 1 2]\n"
          ]
        }
      ]
    },
    {
      "cell_type": "code",
      "source": [
        "print(np.argmin(d,axis=1))"
      ],
      "metadata": {
        "colab": {
          "base_uri": "https://localhost:8080/"
        },
        "id": "NDi-yG98Ej-t",
        "outputId": "d1ed7671-9dc9-4a7e-f3b1-3f3581451985"
      },
      "execution_count": null,
      "outputs": [
        {
          "output_type": "stream",
          "name": "stdout",
          "text": [
            "[1 1 2 3 2]\n"
          ]
        }
      ]
    },
    {
      "cell_type": "code",
      "source": [
        "print(np.argmin(d,axis=0))"
      ],
      "metadata": {
        "colab": {
          "base_uri": "https://localhost:8080/"
        },
        "id": "Jj8Q6eBiFD-l",
        "outputId": "c970609f-f0f1-4b9f-aa3e-324abe2f7158"
      },
      "execution_count": null,
      "outputs": [
        {
          "output_type": "stream",
          "name": "stdout",
          "text": [
            "[1 0 4 3 0]\n"
          ]
        }
      ]
    },
    {
      "cell_type": "markdown",
      "source": [
        "Searching"
      ],
      "metadata": {
        "id": "QMAmLZDfFOv_"
      }
    },
    {
      "cell_type": "code",
      "source": [
        "a=np.array([34,56,7,17,88,91])\n",
        "print(np.where(a%2==0))\n"
      ],
      "metadata": {
        "colab": {
          "base_uri": "https://localhost:8080/"
        },
        "id": "LXN2VTagFRcW",
        "outputId": "1dbf381c-997e-484a-d707-a2c76687b8f5"
      },
      "execution_count": null,
      "outputs": [
        {
          "output_type": "stream",
          "name": "stdout",
          "text": [
            "(array([0, 1, 4]),)\n"
          ]
        }
      ]
    },
    {
      "cell_type": "code",
      "source": [
        "b=np.array([1,2,3,-1,-2,-3])\n",
        "print(np.where(b>=0))"
      ],
      "metadata": {
        "colab": {
          "base_uri": "https://localhost:8080/"
        },
        "id": "R20blUKKGKtb",
        "outputId": "a421bdb6-6d5a-48ad-bb8c-6d2441eba876"
      },
      "execution_count": null,
      "outputs": [
        {
          "output_type": "stream",
          "name": "stdout",
          "text": [
            "(array([0, 1, 2]),)\n"
          ]
        }
      ]
    },
    {
      "cell_type": "code",
      "source": [
        "c=np.array([24,16,7,17,54,60])\n",
        "print(np.where(c%6==0))"
      ],
      "metadata": {
        "colab": {
          "base_uri": "https://localhost:8080/"
        },
        "id": "tBNULqSFGnKA",
        "outputId": "351ad7e3-47e6-4e1d-b764-1da8d380d00b"
      },
      "execution_count": null,
      "outputs": [
        {
          "output_type": "stream",
          "name": "stdout",
          "text": [
            "(array([0, 4, 5]),)\n"
          ]
        }
      ]
    },
    {
      "cell_type": "code",
      "source": [
        "c=np.array([13,14,15,16,19,40])\n",
        "x=np.searchsorted(c,16)\n",
        "print(x)"
      ],
      "metadata": {
        "colab": {
          "base_uri": "https://localhost:8080/"
        },
        "id": "YlV5BnkMHpIo",
        "outputId": "08f89358-4359-4198-9b25-4504bff565d5"
      },
      "execution_count": null,
      "outputs": [
        {
          "output_type": "stream",
          "name": "stdout",
          "text": [
            "3\n"
          ]
        }
      ]
    },
    {
      "cell_type": "markdown",
      "source": [
        "Sorting Array"
      ],
      "metadata": {
        "id": "p4dwSqpjIqXc"
      }
    },
    {
      "cell_type": "code",
      "source": [
        "a=np.array(['kusuma','veena','kaveri'])\n",
        "print(np.sort(a))"
      ],
      "metadata": {
        "colab": {
          "base_uri": "https://localhost:8080/"
        },
        "id": "dfbegVg3ItkT",
        "outputId": "05588ca0-cab2-41e4-9911-722462890fbd"
      },
      "execution_count": null,
      "outputs": [
        {
          "output_type": "stream",
          "name": "stdout",
          "text": [
            "['kaveri' 'kusuma' 'veena']\n"
          ]
        }
      ]
    },
    {
      "cell_type": "code",
      "source": [
        "a=np.array([True,False,True])\n",
        "print(np.sort(a))"
      ],
      "metadata": {
        "colab": {
          "base_uri": "https://localhost:8080/"
        },
        "id": "hJ0F_gwFJciB",
        "outputId": "d21b34b4-99ea-4c44-baeb-aa9405541811"
      },
      "execution_count": null,
      "outputs": [
        {
          "output_type": "stream",
          "name": "stdout",
          "text": [
            "[False  True  True]\n"
          ]
        }
      ]
    },
    {
      "cell_type": "code",
      "source": [
        "a=np.array(([5,23,99],[33,6,90])) #2D sort-sorting happens within rows\n",
        "print(np.sort(a))"
      ],
      "metadata": {
        "colab": {
          "base_uri": "https://localhost:8080/"
        },
        "id": "F6DGbJsoJtPI",
        "outputId": "74a01fe6-419f-4be0-e9bd-fb99cbdfe97c"
      },
      "execution_count": null,
      "outputs": [
        {
          "output_type": "stream",
          "name": "stdout",
          "text": [
            "[[ 5 23 99]\n",
            " [ 6 33 90]]\n"
          ]
        }
      ]
    },
    {
      "cell_type": "markdown",
      "source": [
        "Array Filter"
      ],
      "metadata": {
        "id": "RqtyUOL4KbTP"
      }
    },
    {
      "cell_type": "code",
      "source": [
        "a=np.array([22,55,66,99,88,13])\n",
        "filt=np.where(a%2 == 0)\n",
        "print(filt)"
      ],
      "metadata": {
        "colab": {
          "base_uri": "https://localhost:8080/"
        },
        "id": "zVhEsHDpKgJD",
        "outputId": "8bb3147a-c477-4aa5-bbd0-040aa1ad6ed3"
      },
      "execution_count": null,
      "outputs": [
        {
          "output_type": "stream",
          "name": "stdout",
          "text": [
            "(array([0, 2, 4]),)\n"
          ]
        }
      ]
    },
    {
      "cell_type": "code",
      "source": [
        "a[filt]"
      ],
      "metadata": {
        "colab": {
          "base_uri": "https://localhost:8080/"
        },
        "id": "t30JF9E3MmB4",
        "outputId": "e9c3fb45-d0b5-4dce-d908-646d670a097b"
      },
      "execution_count": null,
      "outputs": [
        {
          "output_type": "execute_result",
          "data": {
            "text/plain": [
              "array([22, 66, 88])"
            ]
          },
          "metadata": {},
          "execution_count": 79
        }
      ]
    },
    {
      "cell_type": "markdown",
      "source": [
        "Iterating Through Arrays"
      ],
      "metadata": {
        "id": "3Rd9rXiFOnvf"
      }
    },
    {
      "cell_type": "code",
      "source": [
        "names=np.array([\"kusuma\",\"veena\",\"kaveri\"])\n",
        "intials=np.array([\"B\",\"J\",\"T\"])\n",
        "for i,j in zip(intials,names):\n",
        "  print(i,\".\",j)"
      ],
      "metadata": {
        "colab": {
          "base_uri": "https://localhost:8080/"
        },
        "id": "S3D-f_K-OsN2",
        "outputId": "41dd773c-07aa-4ea7-fc3e-15d619dcca98"
      },
      "execution_count": null,
      "outputs": [
        {
          "output_type": "stream",
          "name": "stdout",
          "text": [
            "B . kusuma\n",
            "J . veena\n",
            "T . kaveri\n"
          ]
        }
      ]
    },
    {
      "cell_type": "code",
      "source": [
        "a=np.array([2,3,4,5,6])\n",
        "b=np.array([10,20,30,40,50])\n",
        "n=np.multiply(a,b)\n",
        "print(n)"
      ],
      "metadata": {
        "colab": {
          "base_uri": "https://localhost:8080/"
        },
        "id": "Cfo1iURKQbqy",
        "outputId": "19ebf82f-3b39-4117-be0e-4064c3e758ba"
      },
      "execution_count": null,
      "outputs": [
        {
          "output_type": "stream",
          "name": "stdout",
          "text": [
            "[ 20  60 120 200 300]\n"
          ]
        }
      ]
    },
    {
      "cell_type": "code",
      "source": [
        "a=np.array([2,3,4,5,6])\n",
        "b=np.array([10,20,30,40,50])\n",
        "n=np.divide(a,b)\n",
        "print(n)"
      ],
      "metadata": {
        "colab": {
          "base_uri": "https://localhost:8080/"
        },
        "id": "pxfC-SlyQ5G8",
        "outputId": "192f2a1d-02f8-4a77-dc0b-b87bdde1a3d0"
      },
      "execution_count": null,
      "outputs": [
        {
          "output_type": "stream",
          "name": "stdout",
          "text": [
            "[0.2        0.15       0.13333333 0.125      0.12      ]\n"
          ]
        }
      ]
    },
    {
      "cell_type": "code",
      "source": [
        "a=np.array([2,3,4,5,6])\n",
        "b=np.array([10,20,30,40,50])\n",
        "n=np.mod(a,b)\n",
        "print(n)"
      ],
      "metadata": {
        "colab": {
          "base_uri": "https://localhost:8080/"
        },
        "id": "i7iT8OsQRJSV",
        "outputId": "d0a728e8-f259-4cc1-8c3a-929f803a258a"
      },
      "execution_count": null,
      "outputs": [
        {
          "output_type": "stream",
          "name": "stdout",
          "text": [
            "[2 3 4 5 6]\n"
          ]
        }
      ]
    },
    {
      "cell_type": "code",
      "source": [
        "a=np.array([2,3,4,5,6])\n",
        "b=np.array([10,20,30,40,50])\n",
        "n=np.divmod(a,b)\n",
        "print(n)"
      ],
      "metadata": {
        "colab": {
          "base_uri": "https://localhost:8080/"
        },
        "id": "D0rTQL8ZRP7o",
        "outputId": "05d0e9c5-c7bc-421d-84e2-9f9b0f93293d"
      },
      "execution_count": null,
      "outputs": [
        {
          "output_type": "stream",
          "name": "stdout",
          "text": [
            "(array([0, 0, 0, 0, 0]), array([2, 3, 4, 5, 6]))\n"
          ]
        }
      ]
    },
    {
      "cell_type": "markdown",
      "source": [
        "Logarithms"
      ],
      "metadata": {
        "id": "7MGFHtmdSgzG"
      }
    },
    {
      "cell_type": "code",
      "source": [
        "a=1.2 #natural log e\n",
        "print(np.log(a))"
      ],
      "metadata": {
        "colab": {
          "base_uri": "https://localhost:8080/"
        },
        "id": "ikWsQ3-KSjsT",
        "outputId": "ca03fe39-bef0-449b-f279-27c162556746"
      },
      "execution_count": null,
      "outputs": [
        {
          "output_type": "stream",
          "name": "stdout",
          "text": [
            "0.1823215567939546\n"
          ]
        }
      ]
    },
    {
      "cell_type": "code",
      "source": [
        "a=1.2\n",
        "print(np.log2(a)) #natural log base 2"
      ],
      "metadata": {
        "colab": {
          "base_uri": "https://localhost:8080/"
        },
        "id": "5C6b50DVTZEf",
        "outputId": "7a376ead-17da-4c80-9ff9-644f1cebe340"
      },
      "execution_count": null,
      "outputs": [
        {
          "output_type": "stream",
          "name": "stdout",
          "text": [
            "0.2630344058337938\n"
          ]
        }
      ]
    },
    {
      "cell_type": "code",
      "source": [
        "a=1.2 #natural log base 10\n",
        "print(np.log10(a))"
      ],
      "metadata": {
        "colab": {
          "base_uri": "https://localhost:8080/"
        },
        "id": "5AbhUkk9TdGq",
        "outputId": "3209bcf9-15de-4846-f441-4fd9041b4fab"
      },
      "execution_count": null,
      "outputs": [
        {
          "output_type": "stream",
          "name": "stdout",
          "text": [
            "0.07918124604762482\n"
          ]
        }
      ]
    },
    {
      "cell_type": "code",
      "source": [
        "a=np.array([1,1.2,3,4]) ##natural log using array\n",
        "print(np.log(a))"
      ],
      "metadata": {
        "colab": {
          "base_uri": "https://localhost:8080/"
        },
        "id": "j9PxCLVKT0Zw",
        "outputId": "3b35022f-436b-4a85-fba2-6a9489e5b40e"
      },
      "execution_count": null,
      "outputs": [
        {
          "output_type": "stream",
          "name": "stdout",
          "text": [
            "[0.         0.18232156 1.09861229 1.38629436]\n"
          ]
        }
      ]
    },
    {
      "cell_type": "code",
      "source": [
        "a=np.array([1,1.2,3,4]) ##natural log with base 2 using array\n",
        "print(np.log2(a))"
      ],
      "metadata": {
        "colab": {
          "base_uri": "https://localhost:8080/"
        },
        "id": "NXQql9ijUymK",
        "outputId": "ea5bf8c6-0c82-4441-8f53-a88089b59599"
      },
      "execution_count": null,
      "outputs": [
        {
          "output_type": "stream",
          "name": "stdout",
          "text": [
            "[0.         0.26303441 1.5849625  2.        ]\n"
          ]
        }
      ]
    },
    {
      "cell_type": "code",
      "source": [
        "a=np.array([1,10,3,4])\n",
        "b=np.cumprod(a)\n",
        "print(b)"
      ],
      "metadata": {
        "colab": {
          "base_uri": "https://localhost:8080/"
        },
        "id": "2KT8SzuKU4Nc",
        "outputId": "7ba230bd-3684-493f-fdd6-3e44e51f6a78"
      },
      "execution_count": null,
      "outputs": [
        {
          "output_type": "stream",
          "name": "stdout",
          "text": [
            "[  1  10  30 120]\n"
          ]
        }
      ]
    },
    {
      "cell_type": "code",
      "source": [
        "a=np.array([1,10,3,4])\n",
        "b=np.cumsum(a)\n",
        "print(b)"
      ],
      "metadata": {
        "colab": {
          "base_uri": "https://localhost:8080/"
        },
        "id": "jeibII-iVLg7",
        "outputId": "6074713b-8cad-4902-b2a6-126d0c656079"
      },
      "execution_count": null,
      "outputs": [
        {
          "output_type": "stream",
          "name": "stdout",
          "text": [
            "[ 1 11 14 18]\n"
          ]
        }
      ]
    },
    {
      "cell_type": "code",
      "source": [
        "a=np.array([1,10,3,4]) # O:10-1,3-10,4-3\n",
        "b=np.diff(a)\n",
        "print(b)"
      ],
      "metadata": {
        "colab": {
          "base_uri": "https://localhost:8080/"
        },
        "id": "bYlodhegVkQV",
        "outputId": "80bcfebf-2eef-464e-c20d-f67d82840159"
      },
      "execution_count": null,
      "outputs": [
        {
          "output_type": "stream",
          "name": "stdout",
          "text": [
            "[ 9 -7  1]\n"
          ]
        }
      ]
    },
    {
      "cell_type": "code",
      "source": [
        "n1=10\n",
        "n2=20\n",
        "a=np.lcm(n1,n2)\n",
        "print(a)"
      ],
      "metadata": {
        "colab": {
          "base_uri": "https://localhost:8080/"
        },
        "id": "0QR0LwFaWIiH",
        "outputId": "aeabd42e-dcdb-4f46-83ab-e2e151c79289"
      },
      "execution_count": null,
      "outputs": [
        {
          "output_type": "stream",
          "name": "stdout",
          "text": [
            "20\n"
          ]
        }
      ]
    },
    {
      "cell_type": "code",
      "source": [
        "n1=10\n",
        "n2=20\n",
        "a=np.gcd(n1,n2)\n",
        "print(a)"
      ],
      "metadata": {
        "colab": {
          "base_uri": "https://localhost:8080/"
        },
        "id": "iFJE2z76WpP3",
        "outputId": "04ad10bd-4f9f-4865-d1c9-e6d141833da4"
      },
      "execution_count": null,
      "outputs": [
        {
          "output_type": "stream",
          "name": "stdout",
          "text": [
            "10\n"
          ]
        }
      ]
    },
    {
      "cell_type": "code",
      "source": [
        "a=np.array([12,15,60])\n",
        "gc=np.gcd.reduce(a)\n",
        "print(gc)"
      ],
      "metadata": {
        "colab": {
          "base_uri": "https://localhost:8080/"
        },
        "id": "m6ZLY5SIXri1",
        "outputId": "0984164d-0777-4d66-8a72-accf2293121a"
      },
      "execution_count": null,
      "outputs": [
        {
          "output_type": "stream",
          "name": "stdout",
          "text": [
            "3\n"
          ]
        }
      ]
    },
    {
      "cell_type": "code",
      "source": [
        "a=np.array([12,15,60])\n",
        "gc=np.lcm.reduce(a)\n",
        "print(gc)"
      ],
      "metadata": {
        "colab": {
          "base_uri": "https://localhost:8080/"
        },
        "id": "LWcwFrNfYEWV",
        "outputId": "8ca3a6c3-531e-460c-98e3-31d2c92fd97e"
      },
      "execution_count": null,
      "outputs": [
        {
          "output_type": "stream",
          "name": "stdout",
          "text": [
            "60\n"
          ]
        }
      ]
    }
  ]
}